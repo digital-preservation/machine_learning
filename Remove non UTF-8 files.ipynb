{
 "cells": [
  {
   "cell_type": "code",
   "execution_count": 1,
   "metadata": {},
   "outputs": [
    {
     "name": "stdout",
     "output_type": "stream",
     "text": [
      "done\n"
     ]
    }
   ],
   "source": [
    "import os, sys\n",
    "\n",
    "\n",
    "def filter_bad_files(path):\n",
    "    for file in os.listdir(path):\n",
    "        try:\n",
    "            with open(path + '/' + file, \"rb\") as f:\n",
    "                contents = f.read().decode(\"UTF-8\")\n",
    "        except UnicodeDecodeError:\n",
    "            print(\"exception, file : \" + file)\n",
    "            os.remove(path + '/' + file)\n",
    "# ------------  \n",
    "\n",
    "start_path = \"/home/rhubner/scikit_learn_data/HACKATHON_TEXT-FILES\"\n",
    "for lang_dir in os.listdir(start_path):\n",
    "    filter_bad_files(start_path + '/' + lang_dir)\n",
    "    \n",
    "\n",
    "      \n",
    "\n",
    "print(\"done\")"
   ]
  },
  {
   "cell_type": "code",
   "execution_count": null,
   "metadata": {
    "collapsed": true
   },
   "outputs": [],
   "source": []
  }
 ],
 "metadata": {
  "kernelspec": {
   "display_name": "Python 2",
   "language": "python",
   "name": "python2"
  },
  "language_info": {
   "codemirror_mode": {
    "name": "ipython",
    "version": 2
   },
   "file_extension": ".py",
   "mimetype": "text/x-python",
   "name": "python",
   "nbconvert_exporter": "python",
   "pygments_lexer": "ipython2",
   "version": "2.7.14"
  }
 },
 "nbformat": 4,
 "nbformat_minor": 2
}
